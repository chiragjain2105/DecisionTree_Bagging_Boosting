{
 "cells": [
  {
   "cell_type": "code",
   "execution_count": 1,
   "id": "7b0550c7",
   "metadata": {},
   "outputs": [],
   "source": [
    "import pandas as pd\n",
    "import numpy as np\n",
    "from sklearn import tree\n",
    "from mypipes import *\n",
    "%matplotlib inline"
   ]
  },
  {
   "cell_type": "code",
   "execution_count": 2,
   "id": "0c377a00",
   "metadata": {},
   "outputs": [],
   "source": [
    "file = r'C:\\Users\\chirag\\Desktop\\ML IITK\\Untitled Folder\\DATA\\census_income.csv'"
   ]
  },
  {
   "cell_type": "code",
   "execution_count": 3,
   "id": "deb92e0f",
   "metadata": {},
   "outputs": [],
   "source": [
    "ci_train=pd.read_csv(file)"
   ]
  },
  {
   "cell_type": "code",
   "execution_count": 4,
   "id": "0326d1e5",
   "metadata": {},
   "outputs": [
    {
     "data": {
      "text/html": [
       "<div>\n",
       "<style scoped>\n",
       "    .dataframe tbody tr th:only-of-type {\n",
       "        vertical-align: middle;\n",
       "    }\n",
       "\n",
       "    .dataframe tbody tr th {\n",
       "        vertical-align: top;\n",
       "    }\n",
       "\n",
       "    .dataframe thead th {\n",
       "        text-align: right;\n",
       "    }\n",
       "</style>\n",
       "<table border=\"1\" class=\"dataframe\">\n",
       "  <thead>\n",
       "    <tr style=\"text-align: right;\">\n",
       "      <th></th>\n",
       "      <th>age</th>\n",
       "      <th>workclass</th>\n",
       "      <th>fnlwgt</th>\n",
       "      <th>education</th>\n",
       "      <th>education.num</th>\n",
       "      <th>marital.status</th>\n",
       "      <th>occupation</th>\n",
       "      <th>relationship</th>\n",
       "      <th>race</th>\n",
       "      <th>sex</th>\n",
       "      <th>capital.gain</th>\n",
       "      <th>capital.loss</th>\n",
       "      <th>hours.per.week</th>\n",
       "      <th>native.country</th>\n",
       "      <th>Y</th>\n",
       "    </tr>\n",
       "  </thead>\n",
       "  <tbody>\n",
       "    <tr>\n",
       "      <th>0</th>\n",
       "      <td>39</td>\n",
       "      <td>State-gov</td>\n",
       "      <td>77516</td>\n",
       "      <td>Bachelors</td>\n",
       "      <td>13</td>\n",
       "      <td>Never-married</td>\n",
       "      <td>Adm-clerical</td>\n",
       "      <td>Not-in-family</td>\n",
       "      <td>White</td>\n",
       "      <td>Male</td>\n",
       "      <td>2174</td>\n",
       "      <td>0</td>\n",
       "      <td>40</td>\n",
       "      <td>United-States</td>\n",
       "      <td>&lt;=50K</td>\n",
       "    </tr>\n",
       "    <tr>\n",
       "      <th>1</th>\n",
       "      <td>50</td>\n",
       "      <td>Self-emp-not-inc</td>\n",
       "      <td>83311</td>\n",
       "      <td>Bachelors</td>\n",
       "      <td>13</td>\n",
       "      <td>Married-civ-spouse</td>\n",
       "      <td>Exec-managerial</td>\n",
       "      <td>Husband</td>\n",
       "      <td>White</td>\n",
       "      <td>Male</td>\n",
       "      <td>0</td>\n",
       "      <td>0</td>\n",
       "      <td>13</td>\n",
       "      <td>United-States</td>\n",
       "      <td>&lt;=50K</td>\n",
       "    </tr>\n",
       "    <tr>\n",
       "      <th>2</th>\n",
       "      <td>38</td>\n",
       "      <td>Private</td>\n",
       "      <td>215646</td>\n",
       "      <td>HS-grad</td>\n",
       "      <td>9</td>\n",
       "      <td>Divorced</td>\n",
       "      <td>Handlers-cleaners</td>\n",
       "      <td>Not-in-family</td>\n",
       "      <td>White</td>\n",
       "      <td>Male</td>\n",
       "      <td>0</td>\n",
       "      <td>0</td>\n",
       "      <td>40</td>\n",
       "      <td>United-States</td>\n",
       "      <td>&lt;=50K</td>\n",
       "    </tr>\n",
       "    <tr>\n",
       "      <th>3</th>\n",
       "      <td>53</td>\n",
       "      <td>Private</td>\n",
       "      <td>234721</td>\n",
       "      <td>11th</td>\n",
       "      <td>7</td>\n",
       "      <td>Married-civ-spouse</td>\n",
       "      <td>Handlers-cleaners</td>\n",
       "      <td>Husband</td>\n",
       "      <td>Black</td>\n",
       "      <td>Male</td>\n",
       "      <td>0</td>\n",
       "      <td>0</td>\n",
       "      <td>40</td>\n",
       "      <td>United-States</td>\n",
       "      <td>&lt;=50K</td>\n",
       "    </tr>\n",
       "    <tr>\n",
       "      <th>4</th>\n",
       "      <td>28</td>\n",
       "      <td>Private</td>\n",
       "      <td>338409</td>\n",
       "      <td>Bachelors</td>\n",
       "      <td>13</td>\n",
       "      <td>Married-civ-spouse</td>\n",
       "      <td>Prof-specialty</td>\n",
       "      <td>Wife</td>\n",
       "      <td>Black</td>\n",
       "      <td>Female</td>\n",
       "      <td>0</td>\n",
       "      <td>0</td>\n",
       "      <td>40</td>\n",
       "      <td>Cuba</td>\n",
       "      <td>&lt;=50K</td>\n",
       "    </tr>\n",
       "  </tbody>\n",
       "</table>\n",
       "</div>"
      ],
      "text/plain": [
       "   age          workclass  fnlwgt   education  education.num  \\\n",
       "0   39          State-gov   77516   Bachelors             13   \n",
       "1   50   Self-emp-not-inc   83311   Bachelors             13   \n",
       "2   38            Private  215646     HS-grad              9   \n",
       "3   53            Private  234721        11th              7   \n",
       "4   28            Private  338409   Bachelors             13   \n",
       "\n",
       "        marital.status          occupation    relationship    race      sex  \\\n",
       "0        Never-married        Adm-clerical   Not-in-family   White     Male   \n",
       "1   Married-civ-spouse     Exec-managerial         Husband   White     Male   \n",
       "2             Divorced   Handlers-cleaners   Not-in-family   White     Male   \n",
       "3   Married-civ-spouse   Handlers-cleaners         Husband   Black     Male   \n",
       "4   Married-civ-spouse      Prof-specialty            Wife   Black   Female   \n",
       "\n",
       "   capital.gain  capital.loss  hours.per.week  native.country       Y  \n",
       "0          2174             0              40   United-States   <=50K  \n",
       "1             0             0              13   United-States   <=50K  \n",
       "2             0             0              40   United-States   <=50K  \n",
       "3             0             0              40   United-States   <=50K  \n",
       "4             0             0              40            Cuba   <=50K  "
      ]
     },
     "execution_count": 4,
     "metadata": {},
     "output_type": "execute_result"
    }
   ],
   "source": [
    "ci_train.head()"
   ]
  },
  {
   "cell_type": "code",
   "execution_count": 5,
   "id": "6adf5a6a",
   "metadata": {},
   "outputs": [],
   "source": [
    "cat_vars=list(ci_train.select_dtypes(include=['object']).columns)"
   ]
  },
  {
   "cell_type": "code",
   "execution_count": 6,
   "id": "9abf276e",
   "metadata": {},
   "outputs": [],
   "source": [
    "cat_vars = [_ for _ in cat_vars if _ not in ['Y','education']]"
   ]
  },
  {
   "cell_type": "code",
   "execution_count": 7,
   "id": "cdfc9052",
   "metadata": {},
   "outputs": [
    {
     "data": {
      "text/plain": [
       "['workclass',\n",
       " 'marital.status',\n",
       " 'occupation',\n",
       " 'relationship',\n",
       " 'race',\n",
       " 'sex',\n",
       " 'native.country']"
      ]
     },
     "execution_count": 7,
     "metadata": {},
     "output_type": "execute_result"
    }
   ],
   "source": [
    "cat_vars"
   ]
  },
  {
   "cell_type": "code",
   "execution_count": 8,
   "id": "2da84afb",
   "metadata": {},
   "outputs": [],
   "source": [
    "num_vars=list(ci_train.select_dtypes(exclude=['object']).columns)"
   ]
  },
  {
   "cell_type": "code",
   "execution_count": 9,
   "id": "a328aa1b",
   "metadata": {},
   "outputs": [
    {
     "data": {
      "text/plain": [
       "['age',\n",
       " 'fnlwgt',\n",
       " 'education.num',\n",
       " 'capital.gain',\n",
       " 'capital.loss',\n",
       " 'hours.per.week']"
      ]
     },
     "execution_count": 9,
     "metadata": {},
     "output_type": "execute_result"
    }
   ],
   "source": [
    "num_vars"
   ]
  },
  {
   "cell_type": "code",
   "execution_count": 10,
   "id": "68fd586a",
   "metadata": {},
   "outputs": [
    {
     "data": {
      "text/html": [
       "<div>\n",
       "<style scoped>\n",
       "    .dataframe tbody tr th:only-of-type {\n",
       "        vertical-align: middle;\n",
       "    }\n",
       "\n",
       "    .dataframe tbody tr th {\n",
       "        vertical-align: top;\n",
       "    }\n",
       "\n",
       "    .dataframe thead th {\n",
       "        text-align: right;\n",
       "    }\n",
       "</style>\n",
       "<table border=\"1\" class=\"dataframe\">\n",
       "  <thead>\n",
       "    <tr style=\"text-align: right;\">\n",
       "      <th>education.num</th>\n",
       "      <th>1</th>\n",
       "      <th>2</th>\n",
       "      <th>3</th>\n",
       "      <th>4</th>\n",
       "      <th>5</th>\n",
       "      <th>6</th>\n",
       "      <th>7</th>\n",
       "      <th>8</th>\n",
       "      <th>9</th>\n",
       "      <th>10</th>\n",
       "      <th>11</th>\n",
       "      <th>12</th>\n",
       "      <th>13</th>\n",
       "      <th>14</th>\n",
       "      <th>15</th>\n",
       "      <th>16</th>\n",
       "    </tr>\n",
       "    <tr>\n",
       "      <th>education</th>\n",
       "      <th></th>\n",
       "      <th></th>\n",
       "      <th></th>\n",
       "      <th></th>\n",
       "      <th></th>\n",
       "      <th></th>\n",
       "      <th></th>\n",
       "      <th></th>\n",
       "      <th></th>\n",
       "      <th></th>\n",
       "      <th></th>\n",
       "      <th></th>\n",
       "      <th></th>\n",
       "      <th></th>\n",
       "      <th></th>\n",
       "      <th></th>\n",
       "    </tr>\n",
       "  </thead>\n",
       "  <tbody>\n",
       "    <tr>\n",
       "      <th>10th</th>\n",
       "      <td>0</td>\n",
       "      <td>0</td>\n",
       "      <td>0</td>\n",
       "      <td>0</td>\n",
       "      <td>0</td>\n",
       "      <td>933</td>\n",
       "      <td>0</td>\n",
       "      <td>0</td>\n",
       "      <td>0</td>\n",
       "      <td>0</td>\n",
       "      <td>0</td>\n",
       "      <td>0</td>\n",
       "      <td>0</td>\n",
       "      <td>0</td>\n",
       "      <td>0</td>\n",
       "      <td>0</td>\n",
       "    </tr>\n",
       "    <tr>\n",
       "      <th>11th</th>\n",
       "      <td>0</td>\n",
       "      <td>0</td>\n",
       "      <td>0</td>\n",
       "      <td>0</td>\n",
       "      <td>0</td>\n",
       "      <td>0</td>\n",
       "      <td>1175</td>\n",
       "      <td>0</td>\n",
       "      <td>0</td>\n",
       "      <td>0</td>\n",
       "      <td>0</td>\n",
       "      <td>0</td>\n",
       "      <td>0</td>\n",
       "      <td>0</td>\n",
       "      <td>0</td>\n",
       "      <td>0</td>\n",
       "    </tr>\n",
       "    <tr>\n",
       "      <th>12th</th>\n",
       "      <td>0</td>\n",
       "      <td>0</td>\n",
       "      <td>0</td>\n",
       "      <td>0</td>\n",
       "      <td>0</td>\n",
       "      <td>0</td>\n",
       "      <td>0</td>\n",
       "      <td>433</td>\n",
       "      <td>0</td>\n",
       "      <td>0</td>\n",
       "      <td>0</td>\n",
       "      <td>0</td>\n",
       "      <td>0</td>\n",
       "      <td>0</td>\n",
       "      <td>0</td>\n",
       "      <td>0</td>\n",
       "    </tr>\n",
       "    <tr>\n",
       "      <th>1st-4th</th>\n",
       "      <td>0</td>\n",
       "      <td>168</td>\n",
       "      <td>0</td>\n",
       "      <td>0</td>\n",
       "      <td>0</td>\n",
       "      <td>0</td>\n",
       "      <td>0</td>\n",
       "      <td>0</td>\n",
       "      <td>0</td>\n",
       "      <td>0</td>\n",
       "      <td>0</td>\n",
       "      <td>0</td>\n",
       "      <td>0</td>\n",
       "      <td>0</td>\n",
       "      <td>0</td>\n",
       "      <td>0</td>\n",
       "    </tr>\n",
       "    <tr>\n",
       "      <th>5th-6th</th>\n",
       "      <td>0</td>\n",
       "      <td>0</td>\n",
       "      <td>333</td>\n",
       "      <td>0</td>\n",
       "      <td>0</td>\n",
       "      <td>0</td>\n",
       "      <td>0</td>\n",
       "      <td>0</td>\n",
       "      <td>0</td>\n",
       "      <td>0</td>\n",
       "      <td>0</td>\n",
       "      <td>0</td>\n",
       "      <td>0</td>\n",
       "      <td>0</td>\n",
       "      <td>0</td>\n",
       "      <td>0</td>\n",
       "    </tr>\n",
       "    <tr>\n",
       "      <th>7th-8th</th>\n",
       "      <td>0</td>\n",
       "      <td>0</td>\n",
       "      <td>0</td>\n",
       "      <td>646</td>\n",
       "      <td>0</td>\n",
       "      <td>0</td>\n",
       "      <td>0</td>\n",
       "      <td>0</td>\n",
       "      <td>0</td>\n",
       "      <td>0</td>\n",
       "      <td>0</td>\n",
       "      <td>0</td>\n",
       "      <td>0</td>\n",
       "      <td>0</td>\n",
       "      <td>0</td>\n",
       "      <td>0</td>\n",
       "    </tr>\n",
       "    <tr>\n",
       "      <th>9th</th>\n",
       "      <td>0</td>\n",
       "      <td>0</td>\n",
       "      <td>0</td>\n",
       "      <td>0</td>\n",
       "      <td>514</td>\n",
       "      <td>0</td>\n",
       "      <td>0</td>\n",
       "      <td>0</td>\n",
       "      <td>0</td>\n",
       "      <td>0</td>\n",
       "      <td>0</td>\n",
       "      <td>0</td>\n",
       "      <td>0</td>\n",
       "      <td>0</td>\n",
       "      <td>0</td>\n",
       "      <td>0</td>\n",
       "    </tr>\n",
       "    <tr>\n",
       "      <th>Assoc-acdm</th>\n",
       "      <td>0</td>\n",
       "      <td>0</td>\n",
       "      <td>0</td>\n",
       "      <td>0</td>\n",
       "      <td>0</td>\n",
       "      <td>0</td>\n",
       "      <td>0</td>\n",
       "      <td>0</td>\n",
       "      <td>0</td>\n",
       "      <td>0</td>\n",
       "      <td>0</td>\n",
       "      <td>1067</td>\n",
       "      <td>0</td>\n",
       "      <td>0</td>\n",
       "      <td>0</td>\n",
       "      <td>0</td>\n",
       "    </tr>\n",
       "    <tr>\n",
       "      <th>Assoc-voc</th>\n",
       "      <td>0</td>\n",
       "      <td>0</td>\n",
       "      <td>0</td>\n",
       "      <td>0</td>\n",
       "      <td>0</td>\n",
       "      <td>0</td>\n",
       "      <td>0</td>\n",
       "      <td>0</td>\n",
       "      <td>0</td>\n",
       "      <td>0</td>\n",
       "      <td>1382</td>\n",
       "      <td>0</td>\n",
       "      <td>0</td>\n",
       "      <td>0</td>\n",
       "      <td>0</td>\n",
       "      <td>0</td>\n",
       "    </tr>\n",
       "    <tr>\n",
       "      <th>Bachelors</th>\n",
       "      <td>0</td>\n",
       "      <td>0</td>\n",
       "      <td>0</td>\n",
       "      <td>0</td>\n",
       "      <td>0</td>\n",
       "      <td>0</td>\n",
       "      <td>0</td>\n",
       "      <td>0</td>\n",
       "      <td>0</td>\n",
       "      <td>0</td>\n",
       "      <td>0</td>\n",
       "      <td>0</td>\n",
       "      <td>5355</td>\n",
       "      <td>0</td>\n",
       "      <td>0</td>\n",
       "      <td>0</td>\n",
       "    </tr>\n",
       "    <tr>\n",
       "      <th>Doctorate</th>\n",
       "      <td>0</td>\n",
       "      <td>0</td>\n",
       "      <td>0</td>\n",
       "      <td>0</td>\n",
       "      <td>0</td>\n",
       "      <td>0</td>\n",
       "      <td>0</td>\n",
       "      <td>0</td>\n",
       "      <td>0</td>\n",
       "      <td>0</td>\n",
       "      <td>0</td>\n",
       "      <td>0</td>\n",
       "      <td>0</td>\n",
       "      <td>0</td>\n",
       "      <td>0</td>\n",
       "      <td>413</td>\n",
       "    </tr>\n",
       "    <tr>\n",
       "      <th>HS-grad</th>\n",
       "      <td>0</td>\n",
       "      <td>0</td>\n",
       "      <td>0</td>\n",
       "      <td>0</td>\n",
       "      <td>0</td>\n",
       "      <td>0</td>\n",
       "      <td>0</td>\n",
       "      <td>0</td>\n",
       "      <td>10501</td>\n",
       "      <td>0</td>\n",
       "      <td>0</td>\n",
       "      <td>0</td>\n",
       "      <td>0</td>\n",
       "      <td>0</td>\n",
       "      <td>0</td>\n",
       "      <td>0</td>\n",
       "    </tr>\n",
       "    <tr>\n",
       "      <th>Masters</th>\n",
       "      <td>0</td>\n",
       "      <td>0</td>\n",
       "      <td>0</td>\n",
       "      <td>0</td>\n",
       "      <td>0</td>\n",
       "      <td>0</td>\n",
       "      <td>0</td>\n",
       "      <td>0</td>\n",
       "      <td>0</td>\n",
       "      <td>0</td>\n",
       "      <td>0</td>\n",
       "      <td>0</td>\n",
       "      <td>0</td>\n",
       "      <td>1723</td>\n",
       "      <td>0</td>\n",
       "      <td>0</td>\n",
       "    </tr>\n",
       "    <tr>\n",
       "      <th>Preschool</th>\n",
       "      <td>51</td>\n",
       "      <td>0</td>\n",
       "      <td>0</td>\n",
       "      <td>0</td>\n",
       "      <td>0</td>\n",
       "      <td>0</td>\n",
       "      <td>0</td>\n",
       "      <td>0</td>\n",
       "      <td>0</td>\n",
       "      <td>0</td>\n",
       "      <td>0</td>\n",
       "      <td>0</td>\n",
       "      <td>0</td>\n",
       "      <td>0</td>\n",
       "      <td>0</td>\n",
       "      <td>0</td>\n",
       "    </tr>\n",
       "    <tr>\n",
       "      <th>Prof-school</th>\n",
       "      <td>0</td>\n",
       "      <td>0</td>\n",
       "      <td>0</td>\n",
       "      <td>0</td>\n",
       "      <td>0</td>\n",
       "      <td>0</td>\n",
       "      <td>0</td>\n",
       "      <td>0</td>\n",
       "      <td>0</td>\n",
       "      <td>0</td>\n",
       "      <td>0</td>\n",
       "      <td>0</td>\n",
       "      <td>0</td>\n",
       "      <td>0</td>\n",
       "      <td>576</td>\n",
       "      <td>0</td>\n",
       "    </tr>\n",
       "    <tr>\n",
       "      <th>Some-college</th>\n",
       "      <td>0</td>\n",
       "      <td>0</td>\n",
       "      <td>0</td>\n",
       "      <td>0</td>\n",
       "      <td>0</td>\n",
       "      <td>0</td>\n",
       "      <td>0</td>\n",
       "      <td>0</td>\n",
       "      <td>0</td>\n",
       "      <td>7291</td>\n",
       "      <td>0</td>\n",
       "      <td>0</td>\n",
       "      <td>0</td>\n",
       "      <td>0</td>\n",
       "      <td>0</td>\n",
       "      <td>0</td>\n",
       "    </tr>\n",
       "  </tbody>\n",
       "</table>\n",
       "</div>"
      ],
      "text/plain": [
       "education.num  1    2    3    4    5    6     7    8      9     10    11  \\\n",
       "education                                                                  \n",
       " 10th           0    0    0    0    0  933     0    0      0     0     0   \n",
       " 11th           0    0    0    0    0    0  1175    0      0     0     0   \n",
       " 12th           0    0    0    0    0    0     0  433      0     0     0   \n",
       " 1st-4th        0  168    0    0    0    0     0    0      0     0     0   \n",
       " 5th-6th        0    0  333    0    0    0     0    0      0     0     0   \n",
       " 7th-8th        0    0    0  646    0    0     0    0      0     0     0   \n",
       " 9th            0    0    0    0  514    0     0    0      0     0     0   \n",
       " Assoc-acdm     0    0    0    0    0    0     0    0      0     0     0   \n",
       " Assoc-voc      0    0    0    0    0    0     0    0      0     0  1382   \n",
       " Bachelors      0    0    0    0    0    0     0    0      0     0     0   \n",
       " Doctorate      0    0    0    0    0    0     0    0      0     0     0   \n",
       " HS-grad        0    0    0    0    0    0     0    0  10501     0     0   \n",
       " Masters        0    0    0    0    0    0     0    0      0     0     0   \n",
       " Preschool     51    0    0    0    0    0     0    0      0     0     0   \n",
       " Prof-school    0    0    0    0    0    0     0    0      0     0     0   \n",
       " Some-college   0    0    0    0    0    0     0    0      0  7291     0   \n",
       "\n",
       "education.num    12    13    14   15   16  \n",
       "education                                  \n",
       " 10th             0     0     0    0    0  \n",
       " 11th             0     0     0    0    0  \n",
       " 12th             0     0     0    0    0  \n",
       " 1st-4th          0     0     0    0    0  \n",
       " 5th-6th          0     0     0    0    0  \n",
       " 7th-8th          0     0     0    0    0  \n",
       " 9th              0     0     0    0    0  \n",
       " Assoc-acdm    1067     0     0    0    0  \n",
       " Assoc-voc        0     0     0    0    0  \n",
       " Bachelors        0  5355     0    0    0  \n",
       " Doctorate        0     0     0    0  413  \n",
       " HS-grad          0     0     0    0    0  \n",
       " Masters          0     0  1723    0    0  \n",
       " Preschool        0     0     0    0    0  \n",
       " Prof-school      0     0     0  576    0  \n",
       " Some-college     0     0     0    0    0  "
      ]
     },
     "execution_count": 10,
     "metadata": {},
     "output_type": "execute_result"
    }
   ],
   "source": [
    "pd.crosstab(ci_train['education'],ci_train['education.num'])"
   ]
  },
  {
   "cell_type": "code",
   "execution_count": 11,
   "id": "18439354",
   "metadata": {},
   "outputs": [
    {
     "data": {
      "text/plain": [
       "(32561, 15)"
      ]
     },
     "execution_count": 11,
     "metadata": {},
     "output_type": "execute_result"
    }
   ],
   "source": [
    "ci_train.shape"
   ]
  },
  {
   "cell_type": "code",
   "execution_count": 12,
   "id": "c3602320",
   "metadata": {},
   "outputs": [],
   "source": [
    "p1=pdPipeline([\n",
    "    ('cat_select',VarSelector(cat_vars)),\n",
    "    ('missing_trt',DataFrameImputer()),\n",
    "    ('create_dummies',get_dummies_Pipe(300))\n",
    "])\n",
    "\n",
    "p2=pdPipeline([\n",
    "    ('num_select',VarSelector(num_vars)),\n",
    "    ('missing_trt',DataFrameImputer())\n",
    "])\n",
    "\n",
    "data_pipe=FeatureUnion([\n",
    "    ('cat_pipe',p1),\n",
    "    ('num_pipe',p2)\n",
    "])"
   ]
  },
  {
   "cell_type": "code",
   "execution_count": 13,
   "id": "8c5f5ecc",
   "metadata": {},
   "outputs": [],
   "source": [
    "x_train=pd.DataFrame(data=data_pipe.fit_transform(ci_train),\n",
    "                    columns=data_pipe.get_feature_names())"
   ]
  },
  {
   "cell_type": "code",
   "execution_count": 14,
   "id": "9a026bec",
   "metadata": {},
   "outputs": [
    {
     "data": {
      "text/plain": [
       "array([' <=50K', ' >50K'], dtype=object)"
      ]
     },
     "execution_count": 14,
     "metadata": {},
     "output_type": "execute_result"
    }
   ],
   "source": [
    "ci_train['Y'].unique()"
   ]
  },
  {
   "cell_type": "code",
   "execution_count": 15,
   "id": "09d26f6a",
   "metadata": {},
   "outputs": [],
   "source": [
    "y_train=(ci_train['Y']==' >50K').astype(int)"
   ]
  },
  {
   "cell_type": "code",
   "execution_count": 16,
   "id": "92536525",
   "metadata": {},
   "outputs": [],
   "source": [
    "from sklearn.model_selection import RandomizedSearchCV"
   ]
  },
  {
   "cell_type": "code",
   "execution_count": 17,
   "id": "5b80f935",
   "metadata": {},
   "outputs": [],
   "source": [
    "params = {\n",
    "    'class_weight':[None,'balanced'],\n",
    "    'criterion':['entropy','gini'],\n",
    "    'max_depth':[None,5,10,15,20,30,50,70],\n",
    "    'min_samples_leaf':[1,2,5,10,15,20],\n",
    "    'min_samples_split':[2,5,10,15,20]\n",
    "}"
   ]
  },
  {
   "cell_type": "code",
   "execution_count": 18,
   "id": "2a4264b7",
   "metadata": {},
   "outputs": [],
   "source": [
    "from sklearn.tree import DecisionTreeClassifier"
   ]
  },
  {
   "cell_type": "code",
   "execution_count": 19,
   "id": "15e3db76",
   "metadata": {},
   "outputs": [],
   "source": [
    "clf=DecisionTreeClassifier()"
   ]
  },
  {
   "cell_type": "code",
   "execution_count": 20,
   "id": "7411fd31",
   "metadata": {},
   "outputs": [],
   "source": [
    "random_search=RandomizedSearchCV(clf,\n",
    "                                cv=10,\n",
    "                                param_distributions=params,\n",
    "                                scoring='roc_auc',\n",
    "                                n_iter=10,\n",
    "                                n_jobs=-1,\n",
    "                                verbose=20)"
   ]
  },
  {
   "cell_type": "code",
   "execution_count": null,
   "id": "6d8dcec7",
   "metadata": {},
   "outputs": [],
   "source": [
    "random_search.fit(x_train,y_train)"
   ]
  },
  {
   "cell_type": "code",
   "execution_count": null,
   "id": "e34b4417",
   "metadata": {},
   "outputs": [],
   "source": [
    "def report(results,n_top=3):\n",
    "    for i in range(1,n_top+1):\n",
    "        candidates=np.flatnonzero(results['rank_test_score']==i)\n",
    "        for candidate in candidates:\n",
    "            print(\"Model with rank: {0}\".format(i))\n",
    "            print(\"Mean Validation Score: {0:.6f} (std: {1:.6f})\".format(\n",
    "                    results['mean_test_score'][candidate],\n",
    "                    results['std_test_score'][candidate]))\n",
    "            print(\"Parameters: {0}\".format(results['params'][candidate]))\n",
    "            print(\"\")"
   ]
  },
  {
   "cell_type": "code",
   "execution_count": null,
   "id": "c68a2ce4",
   "metadata": {
    "scrolled": true
   },
   "outputs": [],
   "source": [
    "report(random_search.cv_results_,5)"
   ]
  },
  {
   "cell_type": "code",
   "execution_count": null,
   "id": "6929165c",
   "metadata": {},
   "outputs": [],
   "source": [
    "dtree=DecisionTreeClassifier(**{'min_samples_split': 20, 'min_samples_leaf': 20, 'max_depth': 4, 'criterion': 'gini', 'class_weight': None})"
   ]
  },
  {
   "cell_type": "code",
   "execution_count": null,
   "id": "51b95219",
   "metadata": {},
   "outputs": [],
   "source": [
    "dtree"
   ]
  },
  {
   "cell_type": "code",
   "execution_count": null,
   "id": "2fdf5b5d",
   "metadata": {},
   "outputs": [],
   "source": [
    "dtree.fit(x_train,y_train)"
   ]
  },
  {
   "cell_type": "code",
   "execution_count": null,
   "id": "ad79975c",
   "metadata": {},
   "outputs": [],
   "source": [
    "import os\n",
    "os.getcwd()"
   ]
  },
  {
   "cell_type": "code",
   "execution_count": null,
   "id": "3adeeaa5",
   "metadata": {},
   "outputs": [],
   "source": [
    "dotfile=open(\"mytree.dot\",'w')\n",
    "\n",
    "tree.export_graphviz(dtree,out_file=dotfile,\n",
    "                    feature_names=x_train.columns,\n",
    "                    class_names=[\"0\",\"1\"])\n",
    "\n",
    "dotfile.close()"
   ]
  },
  {
   "cell_type": "markdown",
   "id": "980ccd1e",
   "metadata": {},
   "source": [
    "# Random Forest Classifier"
   ]
  },
  {
   "cell_type": "code",
   "execution_count": 23,
   "id": "cc2852eb",
   "metadata": {},
   "outputs": [],
   "source": [
    "from sklearn.ensemble import RandomForestClassifier"
   ]
  },
  {
   "cell_type": "code",
   "execution_count": 28,
   "id": "4fddc751",
   "metadata": {},
   "outputs": [],
   "source": [
    "clf=RandomForestClassifier()"
   ]
  },
  {
   "cell_type": "code",
   "execution_count": 29,
   "id": "b9bd9dd8",
   "metadata": {},
   "outputs": [],
   "source": [
    "param_dist={\n",
    "    \"n_estimators\":[100,200,300,500,700,1000],\n",
    "    \"max_features\":[5,10,20,25,30,35],\n",
    "    \"bootstrap\":[True,False],\n",
    "    \"class_weight\":[None,'balanced'],\n",
    "    'criterion':['entropy','gini'],\n",
    "    'max_depth':[None,5,10,15,20,30,50,70],\n",
    "    'min_samples_leaf':[1,2,5,10,15,20],\n",
    "    'min_samples_split':[2,5,10,15,20]\n",
    "}"
   ]
  },
  {
   "cell_type": "code",
   "execution_count": null,
   "id": "f5bd65fb",
   "metadata": {},
   "outputs": [],
   "source": [
    "x_train.shape"
   ]
  },
  {
   "cell_type": "code",
   "execution_count": null,
   "id": "ccdbd8a1",
   "metadata": {},
   "outputs": [],
   "source": [
    "n_iter_search=10\n",
    "\n",
    "random_search=RandomizedSearchCV(clf,\n",
    "                                param_distributions=param_dist,\n",
    "                                n_iter=n_iter_search,\n",
    "                                scoring='roc_auc',\n",
    "                                cv=10,\n",
    "                                n_jobs=-1,\n",
    "                                verbose=20)"
   ]
  },
  {
   "cell_type": "code",
   "execution_count": null,
   "id": "1e1ca703",
   "metadata": {},
   "outputs": [],
   "source": [
    "random_search.fit(x_train,y_train)"
   ]
  },
  {
   "cell_type": "code",
   "execution_count": null,
   "id": "8d16b3f9",
   "metadata": {},
   "outputs": [],
   "source": [
    "random_search.best_estimator_"
   ]
  },
  {
   "cell_type": "code",
   "execution_count": null,
   "id": "3eb242d8",
   "metadata": {},
   "outputs": [],
   "source": [
    "report(random_search.cv_results_,5)"
   ]
  },
  {
   "cell_type": "code",
   "execution_count": 26,
   "id": "57b8b87a",
   "metadata": {},
   "outputs": [],
   "source": [
    "rf=RandomForestClassifier(**{'n_estimators': 500, 'min_samples_split': 2, 'min_samples_leaf': 2, 'max_features': 10, 'max_depth': 20, 'criterion': 'gini', 'class_weight': None, 'bootstrap': True})"
   ]
  },
  {
   "cell_type": "code",
   "execution_count": 30,
   "id": "b2131593",
   "metadata": {},
   "outputs": [
    {
     "data": {
      "text/plain": [
       "RandomForestClassifier(max_depth=20, max_features=10, min_samples_leaf=2,\n",
       "                       n_estimators=500)"
      ]
     },
     "execution_count": 30,
     "metadata": {},
     "output_type": "execute_result"
    }
   ],
   "source": [
    "rf.fit(x_train,y_train)"
   ]
  },
  {
   "cell_type": "markdown",
   "id": "4a0d2d8e",
   "metadata": {},
   "source": [
    "# Feature Importance"
   ]
  },
  {
   "cell_type": "code",
   "execution_count": 47,
   "id": "d4dc81ed",
   "metadata": {},
   "outputs": [],
   "source": [
    "feat_imp_df=pd.DataFrame({'feature':x_train.columns,\n",
    "                         'importance':rf.feature_importances_})\n",
    "\n",
    "feat_imp_df=feat_imp_df.sort_values('importance',ascending=False)\n",
    "\n",
    "feat_imp_df['normalised_imp']=feat_imp_df['importance']/np.sum(feat_imp_df['importance'])\n",
    "\n",
    "feat_imp_df['cum_imp']=np.cumsum(feat_imp_df['normalised_imp'])"
   ]
  },
  {
   "cell_type": "code",
   "execution_count": 48,
   "id": "91b61b37",
   "metadata": {},
   "outputs": [
    {
     "data": {
      "text/html": [
       "<div>\n",
       "<style scoped>\n",
       "    .dataframe tbody tr th:only-of-type {\n",
       "        vertical-align: middle;\n",
       "    }\n",
       "\n",
       "    .dataframe tbody tr th {\n",
       "        vertical-align: top;\n",
       "    }\n",
       "\n",
       "    .dataframe thead th {\n",
       "        text-align: right;\n",
       "    }\n",
       "</style>\n",
       "<table border=\"1\" class=\"dataframe\">\n",
       "  <thead>\n",
       "    <tr style=\"text-align: right;\">\n",
       "      <th></th>\n",
       "      <th>feature</th>\n",
       "      <th>importance</th>\n",
       "      <th>normalised_imp</th>\n",
       "      <th>cum_imp</th>\n",
       "    </tr>\n",
       "  </thead>\n",
       "  <tbody>\n",
       "    <tr>\n",
       "      <th>42</th>\n",
       "      <td>num_pipe__capital.gain</td>\n",
       "      <td>0.160860</td>\n",
       "      <td>0.160860</td>\n",
       "      <td>0.160860</td>\n",
       "    </tr>\n",
       "    <tr>\n",
       "      <th>41</th>\n",
       "      <td>num_pipe__education.num</td>\n",
       "      <td>0.142586</td>\n",
       "      <td>0.142586</td>\n",
       "      <td>0.303446</td>\n",
       "    </tr>\n",
       "    <tr>\n",
       "      <th>7</th>\n",
       "      <td>cat_pipe__marital.status_ Married-civ-spouse</td>\n",
       "      <td>0.132398</td>\n",
       "      <td>0.132398</td>\n",
       "      <td>0.435844</td>\n",
       "    </tr>\n",
       "    <tr>\n",
       "      <th>39</th>\n",
       "      <td>num_pipe__age</td>\n",
       "      <td>0.096337</td>\n",
       "      <td>0.096337</td>\n",
       "      <td>0.532181</td>\n",
       "    </tr>\n",
       "    <tr>\n",
       "      <th>26</th>\n",
       "      <td>cat_pipe__relationship_ Husband</td>\n",
       "      <td>0.075556</td>\n",
       "      <td>0.075556</td>\n",
       "      <td>0.607737</td>\n",
       "    </tr>\n",
       "    <tr>\n",
       "      <th>40</th>\n",
       "      <td>num_pipe__fnlwgt</td>\n",
       "      <td>0.069580</td>\n",
       "      <td>0.069580</td>\n",
       "      <td>0.677317</td>\n",
       "    </tr>\n",
       "    <tr>\n",
       "      <th>44</th>\n",
       "      <td>num_pipe__hours.per.week</td>\n",
       "      <td>0.060996</td>\n",
       "      <td>0.060996</td>\n",
       "      <td>0.738313</td>\n",
       "    </tr>\n",
       "    <tr>\n",
       "      <th>43</th>\n",
       "      <td>num_pipe__capital.loss</td>\n",
       "      <td>0.044368</td>\n",
       "      <td>0.044368</td>\n",
       "      <td>0.782681</td>\n",
       "    </tr>\n",
       "    <tr>\n",
       "      <th>8</th>\n",
       "      <td>cat_pipe__marital.status_ Never-married</td>\n",
       "      <td>0.029722</td>\n",
       "      <td>0.029722</td>\n",
       "      <td>0.812403</td>\n",
       "    </tr>\n",
       "    <tr>\n",
       "      <th>15</th>\n",
       "      <td>cat_pipe__occupation_ Exec-managerial</td>\n",
       "      <td>0.024853</td>\n",
       "      <td>0.024853</td>\n",
       "      <td>0.837256</td>\n",
       "    </tr>\n",
       "    <tr>\n",
       "      <th>13</th>\n",
       "      <td>cat_pipe__occupation_ Prof-specialty</td>\n",
       "      <td>0.019971</td>\n",
       "      <td>0.019971</td>\n",
       "      <td>0.857226</td>\n",
       "    </tr>\n",
       "    <tr>\n",
       "      <th>30</th>\n",
       "      <td>cat_pipe__relationship_ Wife</td>\n",
       "      <td>0.014143</td>\n",
       "      <td>0.014143</td>\n",
       "      <td>0.871369</td>\n",
       "    </tr>\n",
       "    <tr>\n",
       "      <th>35</th>\n",
       "      <td>cat_pipe__sex_ Male</td>\n",
       "      <td>0.010689</td>\n",
       "      <td>0.010689</td>\n",
       "      <td>0.882059</td>\n",
       "    </tr>\n",
       "    <tr>\n",
       "      <th>27</th>\n",
       "      <td>cat_pipe__relationship_ Not-in-family</td>\n",
       "      <td>0.009158</td>\n",
       "      <td>0.009158</td>\n",
       "      <td>0.891217</td>\n",
       "    </tr>\n",
       "    <tr>\n",
       "      <th>1</th>\n",
       "      <td>cat_pipe__workclass_ Self-emp-not-inc</td>\n",
       "      <td>0.008463</td>\n",
       "      <td>0.008463</td>\n",
       "      <td>0.899680</td>\n",
       "    </tr>\n",
       "    <tr>\n",
       "      <th>28</th>\n",
       "      <td>cat_pipe__relationship_ Own-child</td>\n",
       "      <td>0.007644</td>\n",
       "      <td>0.007644</td>\n",
       "      <td>0.907324</td>\n",
       "    </tr>\n",
       "    <tr>\n",
       "      <th>0</th>\n",
       "      <td>cat_pipe__workclass_ Private</td>\n",
       "      <td>0.007555</td>\n",
       "      <td>0.007555</td>\n",
       "      <td>0.914879</td>\n",
       "    </tr>\n",
       "    <tr>\n",
       "      <th>18</th>\n",
       "      <td>cat_pipe__occupation_ Other-service</td>\n",
       "      <td>0.006724</td>\n",
       "      <td>0.006724</td>\n",
       "      <td>0.921603</td>\n",
       "    </tr>\n",
       "    <tr>\n",
       "      <th>17</th>\n",
       "      <td>cat_pipe__occupation_ Sales</td>\n",
       "      <td>0.005106</td>\n",
       "      <td>0.005106</td>\n",
       "      <td>0.926709</td>\n",
       "    </tr>\n",
       "    <tr>\n",
       "      <th>9</th>\n",
       "      <td>cat_pipe__marital.status_ Divorced</td>\n",
       "      <td>0.005049</td>\n",
       "      <td>0.005049</td>\n",
       "      <td>0.931758</td>\n",
       "    </tr>\n",
       "    <tr>\n",
       "      <th>36</th>\n",
       "      <td>cat_pipe__native.country_ United-States</td>\n",
       "      <td>0.004962</td>\n",
       "      <td>0.004962</td>\n",
       "      <td>0.936720</td>\n",
       "    </tr>\n",
       "    <tr>\n",
       "      <th>5</th>\n",
       "      <td>cat_pipe__workclass_ Self-emp-inc</td>\n",
       "      <td>0.004708</td>\n",
       "      <td>0.004708</td>\n",
       "      <td>0.941428</td>\n",
       "    </tr>\n",
       "    <tr>\n",
       "      <th>6</th>\n",
       "      <td>cat_pipe__workclass_ Federal-gov</td>\n",
       "      <td>0.004548</td>\n",
       "      <td>0.004548</td>\n",
       "      <td>0.945977</td>\n",
       "    </tr>\n",
       "    <tr>\n",
       "      <th>31</th>\n",
       "      <td>cat_pipe__race_ White</td>\n",
       "      <td>0.004518</td>\n",
       "      <td>0.004518</td>\n",
       "      <td>0.950495</td>\n",
       "    </tr>\n",
       "    <tr>\n",
       "      <th>24</th>\n",
       "      <td>cat_pipe__occupation_ Tech-support</td>\n",
       "      <td>0.004369</td>\n",
       "      <td>0.004369</td>\n",
       "      <td>0.954864</td>\n",
       "    </tr>\n",
       "    <tr>\n",
       "      <th>29</th>\n",
       "      <td>cat_pipe__relationship_ Unmarried</td>\n",
       "      <td>0.004257</td>\n",
       "      <td>0.004257</td>\n",
       "      <td>0.959120</td>\n",
       "    </tr>\n",
       "    <tr>\n",
       "      <th>23</th>\n",
       "      <td>cat_pipe__occupation_ Farming-fishing</td>\n",
       "      <td>0.004168</td>\n",
       "      <td>0.004168</td>\n",
       "      <td>0.963288</td>\n",
       "    </tr>\n",
       "    <tr>\n",
       "      <th>14</th>\n",
       "      <td>cat_pipe__occupation_ Craft-repair</td>\n",
       "      <td>0.003975</td>\n",
       "      <td>0.003975</td>\n",
       "      <td>0.967264</td>\n",
       "    </tr>\n",
       "    <tr>\n",
       "      <th>2</th>\n",
       "      <td>cat_pipe__workclass_ Local-gov</td>\n",
       "      <td>0.003857</td>\n",
       "      <td>0.003857</td>\n",
       "      <td>0.971120</td>\n",
       "    </tr>\n",
       "    <tr>\n",
       "      <th>16</th>\n",
       "      <td>cat_pipe__occupation_ Adm-clerical</td>\n",
       "      <td>0.003568</td>\n",
       "      <td>0.003568</td>\n",
       "      <td>0.974689</td>\n",
       "    </tr>\n",
       "    <tr>\n",
       "      <th>21</th>\n",
       "      <td>cat_pipe__occupation_ Transport-moving</td>\n",
       "      <td>0.002788</td>\n",
       "      <td>0.002788</td>\n",
       "      <td>0.977477</td>\n",
       "    </tr>\n",
       "    <tr>\n",
       "      <th>32</th>\n",
       "      <td>cat_pipe__race_ Black</td>\n",
       "      <td>0.002693</td>\n",
       "      <td>0.002693</td>\n",
       "      <td>0.980170</td>\n",
       "    </tr>\n",
       "    <tr>\n",
       "      <th>4</th>\n",
       "      <td>cat_pipe__workclass_ State-gov</td>\n",
       "      <td>0.002670</td>\n",
       "      <td>0.002670</td>\n",
       "      <td>0.982840</td>\n",
       "    </tr>\n",
       "    <tr>\n",
       "      <th>19</th>\n",
       "      <td>cat_pipe__occupation_ Machine-op-inspct</td>\n",
       "      <td>0.002457</td>\n",
       "      <td>0.002457</td>\n",
       "      <td>0.985297</td>\n",
       "    </tr>\n",
       "    <tr>\n",
       "      <th>33</th>\n",
       "      <td>cat_pipe__race_ Asian-Pac-Islander</td>\n",
       "      <td>0.002165</td>\n",
       "      <td>0.002165</td>\n",
       "      <td>0.987463</td>\n",
       "    </tr>\n",
       "    <tr>\n",
       "      <th>25</th>\n",
       "      <td>cat_pipe__occupation_ Protective-serv</td>\n",
       "      <td>0.002155</td>\n",
       "      <td>0.002155</td>\n",
       "      <td>0.989618</td>\n",
       "    </tr>\n",
       "    <tr>\n",
       "      <th>22</th>\n",
       "      <td>cat_pipe__occupation_ Handlers-cleaners</td>\n",
       "      <td>0.002051</td>\n",
       "      <td>0.002051</td>\n",
       "      <td>0.991669</td>\n",
       "    </tr>\n",
       "    <tr>\n",
       "      <th>38</th>\n",
       "      <td>cat_pipe__native.country_ ?</td>\n",
       "      <td>0.001397</td>\n",
       "      <td>0.001397</td>\n",
       "      <td>0.993066</td>\n",
       "    </tr>\n",
       "    <tr>\n",
       "      <th>3</th>\n",
       "      <td>cat_pipe__workclass_ ?</td>\n",
       "      <td>0.001339</td>\n",
       "      <td>0.001339</td>\n",
       "      <td>0.994405</td>\n",
       "    </tr>\n",
       "    <tr>\n",
       "      <th>20</th>\n",
       "      <td>cat_pipe__occupation_ ?</td>\n",
       "      <td>0.001308</td>\n",
       "      <td>0.001308</td>\n",
       "      <td>0.995712</td>\n",
       "    </tr>\n",
       "    <tr>\n",
       "      <th>37</th>\n",
       "      <td>cat_pipe__native.country_ Mexico</td>\n",
       "      <td>0.001279</td>\n",
       "      <td>0.001279</td>\n",
       "      <td>0.996991</td>\n",
       "    </tr>\n",
       "    <tr>\n",
       "      <th>11</th>\n",
       "      <td>cat_pipe__marital.status_ Widowed</td>\n",
       "      <td>0.001058</td>\n",
       "      <td>0.001058</td>\n",
       "      <td>0.998049</td>\n",
       "    </tr>\n",
       "    <tr>\n",
       "      <th>10</th>\n",
       "      <td>cat_pipe__marital.status_ Separated</td>\n",
       "      <td>0.000967</td>\n",
       "      <td>0.000967</td>\n",
       "      <td>0.999016</td>\n",
       "    </tr>\n",
       "    <tr>\n",
       "      <th>34</th>\n",
       "      <td>cat_pipe__race_ Amer-Indian-Eskimo</td>\n",
       "      <td>0.000526</td>\n",
       "      <td>0.000526</td>\n",
       "      <td>0.999542</td>\n",
       "    </tr>\n",
       "    <tr>\n",
       "      <th>12</th>\n",
       "      <td>cat_pipe__marital.status_ Married-spouse-absent</td>\n",
       "      <td>0.000458</td>\n",
       "      <td>0.000458</td>\n",
       "      <td>1.000000</td>\n",
       "    </tr>\n",
       "  </tbody>\n",
       "</table>\n",
       "</div>"
      ],
      "text/plain": [
       "                                            feature  importance  \\\n",
       "42                           num_pipe__capital.gain    0.160860   \n",
       "41                          num_pipe__education.num    0.142586   \n",
       "7      cat_pipe__marital.status_ Married-civ-spouse    0.132398   \n",
       "39                                    num_pipe__age    0.096337   \n",
       "26                  cat_pipe__relationship_ Husband    0.075556   \n",
       "40                                 num_pipe__fnlwgt    0.069580   \n",
       "44                         num_pipe__hours.per.week    0.060996   \n",
       "43                           num_pipe__capital.loss    0.044368   \n",
       "8           cat_pipe__marital.status_ Never-married    0.029722   \n",
       "15            cat_pipe__occupation_ Exec-managerial    0.024853   \n",
       "13             cat_pipe__occupation_ Prof-specialty    0.019971   \n",
       "30                     cat_pipe__relationship_ Wife    0.014143   \n",
       "35                              cat_pipe__sex_ Male    0.010689   \n",
       "27            cat_pipe__relationship_ Not-in-family    0.009158   \n",
       "1             cat_pipe__workclass_ Self-emp-not-inc    0.008463   \n",
       "28                cat_pipe__relationship_ Own-child    0.007644   \n",
       "0                      cat_pipe__workclass_ Private    0.007555   \n",
       "18              cat_pipe__occupation_ Other-service    0.006724   \n",
       "17                      cat_pipe__occupation_ Sales    0.005106   \n",
       "9                cat_pipe__marital.status_ Divorced    0.005049   \n",
       "36          cat_pipe__native.country_ United-States    0.004962   \n",
       "5                 cat_pipe__workclass_ Self-emp-inc    0.004708   \n",
       "6                  cat_pipe__workclass_ Federal-gov    0.004548   \n",
       "31                            cat_pipe__race_ White    0.004518   \n",
       "24               cat_pipe__occupation_ Tech-support    0.004369   \n",
       "29                cat_pipe__relationship_ Unmarried    0.004257   \n",
       "23            cat_pipe__occupation_ Farming-fishing    0.004168   \n",
       "14               cat_pipe__occupation_ Craft-repair    0.003975   \n",
       "2                    cat_pipe__workclass_ Local-gov    0.003857   \n",
       "16               cat_pipe__occupation_ Adm-clerical    0.003568   \n",
       "21           cat_pipe__occupation_ Transport-moving    0.002788   \n",
       "32                            cat_pipe__race_ Black    0.002693   \n",
       "4                    cat_pipe__workclass_ State-gov    0.002670   \n",
       "19          cat_pipe__occupation_ Machine-op-inspct    0.002457   \n",
       "33               cat_pipe__race_ Asian-Pac-Islander    0.002165   \n",
       "25            cat_pipe__occupation_ Protective-serv    0.002155   \n",
       "22          cat_pipe__occupation_ Handlers-cleaners    0.002051   \n",
       "38                      cat_pipe__native.country_ ?    0.001397   \n",
       "3                            cat_pipe__workclass_ ?    0.001339   \n",
       "20                          cat_pipe__occupation_ ?    0.001308   \n",
       "37                 cat_pipe__native.country_ Mexico    0.001279   \n",
       "11                cat_pipe__marital.status_ Widowed    0.001058   \n",
       "10              cat_pipe__marital.status_ Separated    0.000967   \n",
       "34               cat_pipe__race_ Amer-Indian-Eskimo    0.000526   \n",
       "12  cat_pipe__marital.status_ Married-spouse-absent    0.000458   \n",
       "\n",
       "    normalised_imp   cum_imp  \n",
       "42        0.160860  0.160860  \n",
       "41        0.142586  0.303446  \n",
       "7         0.132398  0.435844  \n",
       "39        0.096337  0.532181  \n",
       "26        0.075556  0.607737  \n",
       "40        0.069580  0.677317  \n",
       "44        0.060996  0.738313  \n",
       "43        0.044368  0.782681  \n",
       "8         0.029722  0.812403  \n",
       "15        0.024853  0.837256  \n",
       "13        0.019971  0.857226  \n",
       "30        0.014143  0.871369  \n",
       "35        0.010689  0.882059  \n",
       "27        0.009158  0.891217  \n",
       "1         0.008463  0.899680  \n",
       "28        0.007644  0.907324  \n",
       "0         0.007555  0.914879  \n",
       "18        0.006724  0.921603  \n",
       "17        0.005106  0.926709  \n",
       "9         0.005049  0.931758  \n",
       "36        0.004962  0.936720  \n",
       "5         0.004708  0.941428  \n",
       "6         0.004548  0.945977  \n",
       "31        0.004518  0.950495  \n",
       "24        0.004369  0.954864  \n",
       "29        0.004257  0.959120  \n",
       "23        0.004168  0.963288  \n",
       "14        0.003975  0.967264  \n",
       "2         0.003857  0.971120  \n",
       "16        0.003568  0.974689  \n",
       "21        0.002788  0.977477  \n",
       "32        0.002693  0.980170  \n",
       "4         0.002670  0.982840  \n",
       "19        0.002457  0.985297  \n",
       "33        0.002165  0.987463  \n",
       "25        0.002155  0.989618  \n",
       "22        0.002051  0.991669  \n",
       "38        0.001397  0.993066  \n",
       "3         0.001339  0.994405  \n",
       "20        0.001308  0.995712  \n",
       "37        0.001279  0.996991  \n",
       "11        0.001058  0.998049  \n",
       "10        0.000967  0.999016  \n",
       "34        0.000526  0.999542  \n",
       "12        0.000458  1.000000  "
      ]
     },
     "execution_count": 48,
     "metadata": {},
     "output_type": "execute_result"
    }
   ],
   "source": [
    "feat_imp_df"
   ]
  },
  {
   "cell_type": "markdown",
   "id": "6c1cfc36",
   "metadata": {},
   "source": [
    "# Partial Dependent Plot"
   ]
  },
  {
   "cell_type": "code",
   "execution_count": 33,
   "id": "9ae56e91",
   "metadata": {},
   "outputs": [],
   "source": [
    "var_name='num_pipe__age'\n",
    "\n",
    "preds=rf.predict_proba(x_train)[:,1]"
   ]
  },
  {
   "cell_type": "code",
   "execution_count": 34,
   "id": "97832798",
   "metadata": {},
   "outputs": [],
   "source": [
    "import seaborn as sns"
   ]
  },
  {
   "cell_type": "code",
   "execution_count": 36,
   "id": "0990404a",
   "metadata": {},
   "outputs": [],
   "source": [
    "var_data=pd.DataFrame({'var':x_train[var_name],'response':preds})"
   ]
  },
  {
   "cell_type": "code",
   "execution_count": 37,
   "id": "acd338c5",
   "metadata": {},
   "outputs": [
    {
     "data": {
      "text/plain": [
       "<seaborn.axisgrid.FacetGrid at 0x194cb608a00>"
      ]
     },
     "execution_count": 37,
     "metadata": {},
     "output_type": "execute_result"
    },
    {
     "data": {
      "image/png": "[encoded data removed]",
      "text/plain": [
       "<Figure size 360x360 with 1 Axes>"
      ]
     },
     "metadata": {
      "needs_background": "light"
     },
     "output_type": "display_data"
    }
   ],
   "source": [
    "sns.lmplot(x='var',y='response',data=var_data,fit_reg=False)"
   ]
  },
  {
   "cell_type": "code",
   "execution_count": 38,
   "id": "54953aaf",
   "metadata": {},
   "outputs": [],
   "source": [
    "import statsmodels.api as sn\n"
   ]
  },
  {
   "cell_type": "code",
   "execution_count": 39,
   "id": "a7c05d18",
   "metadata": {},
   "outputs": [],
   "source": [
    "smooth_data=sn.nonparametric.lowess(var_data['response'],var_data['var'])"
   ]
  },
  {
   "cell_type": "code",
   "execution_count": 40,
   "id": "b27bf78d",
   "metadata": {},
   "outputs": [
    {
     "data": {
      "text/plain": [
       "<seaborn.axisgrid.FacetGrid at 0x194cb65b520>"
      ]
     },
     "execution_count": 40,
     "metadata": {},
     "output_type": "execute_result"
    },
    {
     "data": {
      "image/png": "[encoded data removed]",
      "text/plain": [
       "<Figure size 360x360 with 1 Axes>"
      ]
     },
     "metadata": {
      "needs_background": "light"
     },
     "output_type": "display_data"
    }
   ],
   "source": [
    "df=pd.DataFrame({'response':smooth_data[:,1],var_name:smooth_data[:,0]})\n",
    "\n",
    "sns.lmplot(x=var_name,y='response',data=df,fit_reg=False)"
   ]
  },
  {
   "cell_type": "code",
   "execution_count": 41,
   "id": "e1e31e09",
   "metadata": {},
   "outputs": [
    {
     "data": {
      "text/plain": [
       "Index(['cat_pipe__workclass_ Private', 'cat_pipe__workclass_ Self-emp-not-inc',\n",
       "       'cat_pipe__workclass_ Local-gov', 'cat_pipe__workclass_ ?',\n",
       "       'cat_pipe__workclass_ State-gov', 'cat_pipe__workclass_ Self-emp-inc',\n",
       "       'cat_pipe__workclass_ Federal-gov',\n",
       "       'cat_pipe__marital.status_ Married-civ-spouse',\n",
       "       'cat_pipe__marital.status_ Never-married',\n",
       "       'cat_pipe__marital.status_ Divorced',\n",
       "       'cat_pipe__marital.status_ Separated',\n",
       "       'cat_pipe__marital.status_ Widowed',\n",
       "       'cat_pipe__marital.status_ Married-spouse-absent',\n",
       "       'cat_pipe__occupation_ Prof-specialty',\n",
       "       'cat_pipe__occupation_ Craft-repair',\n",
       "       'cat_pipe__occupation_ Exec-managerial',\n",
       "       'cat_pipe__occupation_ Adm-clerical', 'cat_pipe__occupation_ Sales',\n",
       "       'cat_pipe__occupation_ Other-service',\n",
       "       'cat_pipe__occupation_ Machine-op-inspct', 'cat_pipe__occupation_ ?',\n",
       "       'cat_pipe__occupation_ Transport-moving',\n",
       "       'cat_pipe__occupation_ Handlers-cleaners',\n",
       "       'cat_pipe__occupation_ Farming-fishing',\n",
       "       'cat_pipe__occupation_ Tech-support',\n",
       "       'cat_pipe__occupation_ Protective-serv',\n",
       "       'cat_pipe__relationship_ Husband',\n",
       "       'cat_pipe__relationship_ Not-in-family',\n",
       "       'cat_pipe__relationship_ Own-child',\n",
       "       'cat_pipe__relationship_ Unmarried', 'cat_pipe__relationship_ Wife',\n",
       "       'cat_pipe__race_ White', 'cat_pipe__race_ Black',\n",
       "       'cat_pipe__race_ Asian-Pac-Islander',\n",
       "       'cat_pipe__race_ Amer-Indian-Eskimo', 'cat_pipe__sex_ Male',\n",
       "       'cat_pipe__native.country_ United-States',\n",
       "       'cat_pipe__native.country_ Mexico', 'cat_pipe__native.country_ ?',\n",
       "       'num_pipe__age', 'num_pipe__fnlwgt', 'num_pipe__education.num',\n",
       "       'num_pipe__capital.gain', 'num_pipe__capital.loss',\n",
       "       'num_pipe__hours.per.week'],\n",
       "      dtype='object')"
      ]
     },
     "execution_count": 41,
     "metadata": {},
     "output_type": "execute_result"
    }
   ],
   "source": [
    "x_train.columns"
   ]
  },
  {
   "cell_type": "code",
   "execution_count": 42,
   "id": "369acc19",
   "metadata": {},
   "outputs": [],
   "source": [
    "var_name='num_pipe__education.num'\n",
    "\n",
    "preds=rf.predict_proba(x_train)[:,1]"
   ]
  },
  {
   "cell_type": "code",
   "execution_count": 43,
   "id": "f66f0c08",
   "metadata": {},
   "outputs": [
    {
     "data": {
      "text/plain": [
       "<seaborn.axisgrid.FacetGrid at 0x194d55131f0>"
      ]
     },
     "execution_count": 43,
     "metadata": {},
     "output_type": "execute_result"
    },
    {
     "data": {
      "image/png": "[encoded data removed]",
      "text/plain": [
       "<Figure size 360x360 with 1 Axes>"
      ]
     },
     "metadata": {
      "needs_background": "light"
     },
     "output_type": "display_data"
    }
   ],
   "source": [
    "import seaborn as sns\n",
    "\n",
    "var_data=pd.DataFrame({'var':x_train[var_name],'response':preds})\n",
    "sns.lmplot(x='var',y='response',data=var_data,fit_reg=False)"
   ]
  },
  {
   "cell_type": "code",
   "execution_count": 44,
   "id": "c435a357",
   "metadata": {},
   "outputs": [
    {
     "data": {
      "text/plain": [
       "<seaborn.axisgrid.FacetGrid at 0x194d5513f40>"
      ]
     },
     "execution_count": 44,
     "metadata": {},
     "output_type": "execute_result"
    },
    {
     "data": {
      "image/png": "[encoded data removed]",
      "text/plain": [
       "<Figure size 360x360 with 1 Axes>"
      ]
     },
     "metadata": {
      "needs_background": "light"
     },
     "output_type": "display_data"
    }
   ],
   "source": [
    "import statsmodels.api as sn\n",
    "\n",
    "smooth_data=sn.nonparametric.lowess(var_data['response'],var_data['var'])\n",
    "\n",
    "df=pd.DataFrame({'response':smooth_data[:,1],var_name:smooth_data[:,0]})\n",
    "\n",
    "sns.lmplot(x=var_name,y='response',data=df,fit_reg=False)"
   ]
  },
  {
   "cell_type": "markdown",
   "id": "770a93fd",
   "metadata": {},
   "source": [
    "# Extra Trees"
   ]
  },
  {
   "cell_type": "code",
   "execution_count": null,
   "id": "21c0526d",
   "metadata": {},
   "outputs": [],
   "source": [
    "from sklearn.ensemble import "
   ]
  }
 ],
 "metadata": {
  "kernelspec": {
   "display_name": "Python 3 (ipykernel)",
   "language": "python",
   "name": "python3"
  },
  "language_info": {
   "codemirror_mode": {
    "name": "ipython",
    "version": 3
   },
   "file_extension": ".py",
   "mimetype": "text/x-python",
   "name": "python",
   "nbconvert_exporter": "python",
   "pygments_lexer": "ipython3",
   "version": "3.9.7"
  }
 },
 "nbformat": 4,
 "nbformat_minor": 5
}
